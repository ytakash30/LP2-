{
 "cells": [
  {
   "cell_type": "code",
   "execution_count": 12,
   "id": "9064a014",
   "metadata": {},
   "outputs": [],
   "source": [
    "import collections"
   ]
  },
  {
   "cell_type": "code",
   "execution_count": 14,
   "id": "2fac1b44",
   "metadata": {},
   "outputs": [
    {
     "name": "stdout",
     "output_type": "stream",
     "text": [
      "{0, 1, 2, 3, 4, 5}\n"
     ]
    }
   ],
   "source": [
    "import collections\n",
    "def bfs(graph,root):\n",
    "    visited=set()\n",
    "    queue=collections.deque([root])\n",
    "    \n",
    "    while queue:\n",
    "        vertex=queue.popleft()\n",
    "        visited.add(vertex)\n",
    "        for i in graph[vertex]:\n",
    "          if i not in visited:\n",
    "            queue.append(i)\n",
    "    print(visited)\n",
    "    \n",
    "\n",
    "if __name__ == \"__main__\":\n",
    "        \n",
    "  graph={0:[1,2],1:[3,4],2:[5],3:[0],4:[0],5:[0] }                #infrom of key value pair / dictionary graph\n",
    "  bfs(graph,0)"
   ]
  },
  {
   "cell_type": "code",
   "execution_count": 1,
   "id": "9589e7ed",
   "metadata": {},
   "outputs": [
    {
     "name": "stdout",
     "output_type": "stream",
     "text": [
      "A\n",
      "B\n",
      "E\n",
      "C\n",
      "D\n"
     ]
    }
   ],
   "source": [
    "graph = {\n",
    "    'A':['B','C','D'],'B':['E'],'C':['D','E'],'D':[],'E':[]\n",
    "}\n",
    "visited = set()\n",
    "\n",
    "def dfs(visited, graph, root):\n",
    "    if root not in visited:\n",
    "        print(root)\n",
    "        visited.add(root)\n",
    "        for neighbour in graph[root]:\n",
    "          dfs(visited, graph, neighbour)\n",
    "\n",
    "dfs(visited,graph,'A')"
   ]
  },
  {
   "cell_type": "code",
   "execution_count": 2,
   "id": "2a5fb012",
   "metadata": {},
   "outputs": [
    {
     "name": "stdout",
     "output_type": "stream",
     "text": [
      "0\n",
      "1\n",
      "3\n",
      "4\n",
      "2\n",
      "5\n"
     ]
    }
   ],
   "source": [
    "graph={0:[1,2],1:[3,4],2:[5],3:[0],4:[0],5:[0] }\n",
    "visited=set()\n",
    "\n",
    "def dfs(visited,graph,root):\n",
    "    if root not in visited:\n",
    "        print(root)\n",
    "        visited.add(root)\n",
    "        for neighbour in graph[root]:\n",
    "         dfs(visited,graph,neighbour)\n",
    "dfs(visited,graph,0)"
   ]
  },
  {
   "cell_type": "code",
   "execution_count": null,
   "id": "0e3d0eb9",
   "metadata": {},
   "outputs": [],
   "source": []
  }
 ],
 "metadata": {
  "kernelspec": {
   "display_name": "Python 3 (ipykernel)",
   "language": "python",
   "name": "python3"
  },
  "language_info": {
   "codemirror_mode": {
    "name": "ipython",
    "version": 3
   },
   "file_extension": ".py",
   "mimetype": "text/x-python",
   "name": "python",
   "nbconvert_exporter": "python",
   "pygments_lexer": "ipython3",
   "version": "3.9.7"
  }
 },
 "nbformat": 4,
 "nbformat_minor": 5
}
