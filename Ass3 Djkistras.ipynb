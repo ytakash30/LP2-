{
 "cells": [
  {
   "cell_type": "code",
   "execution_count": 9,
   "id": "722dc7ca",
   "metadata": {},
   "outputs": [
    {
     "name": "stdout",
     "output_type": "stream",
     "text": [
      "[0, 1, 3, 4, 5]\n"
     ]
    }
   ],
   "source": [
    "# takes the graph and the starting node\n",
    "# returns a list of distances from the starting node to every other node\n",
    "from numpy import Inf\n",
    "def Dijkstra(graph, start):\n",
    "    l = len(graph)\n",
    "    \n",
    "    # initialize all node distances as infinite\n",
    "    dist = [Inf for i in range(l)]\n",
    "    \n",
    "    # set the distance of starting node as 0\n",
    "    dist[start] = 0\n",
    "    \n",
    "    # create a list that indicates if a node is visited or not\n",
    "    vis = [False for i in range(l)]\n",
    "    \n",
    "    # iterate over all the nodes\n",
    "    for i in range(l):\n",
    "        \n",
    "        # set u=-1 to indicate a current starting node\n",
    "        u = -1\n",
    "        \n",
    "        # iterate over all the nodes to check the status of the visit \n",
    "        for x in range(l):\n",
    "            # now if the 'x' node is not visited yet or the distance we have currently for it is less than the distance to the start node then update the current node as the 'x'\n",
    "            if not vis[x] and (u == -1 or dist[x] < dist[u]):\n",
    "                u = x\n",
    "                \n",
    "        # check if we have visited all the nodes or we haven't reached the node\n",
    "        if dist[u] == Inf:\n",
    "            break\n",
    "            \n",
    "        # set the currently running node as visited\n",
    "        vis[u] = True\n",
    "        \n",
    "       # now if the distance of the current node + the distance to the node we're visiting is less than the prior distance of the node we're visiting then update that distance.\n",
    "        for v, d in graph[u]:\n",
    "            if dist[u] + d < dist[v]:\n",
    "                dist[v] = dist[u] + d\n",
    "                \n",
    "    # now at last return the list which contains the shortest path to each node from that given node            \n",
    "    return dist\n",
    "\n",
    "graph = {\n",
    "    0: [(1, 1)],\n",
    "    1: [(0, 1), (2, 2), (3, 3)],\n",
    "    2: [(1, 2), (3, 1), (4, 5)],\n",
    "    3: [(1, 3), (2, 1), (4, 1)],\n",
    "    4: [(2, 5), (3, 1)]\n",
    "}\n",
    "print(Dijkstra(graph,0))"
   ]
  },
  {
   "cell_type": "code",
   "execution_count": null,
   "id": "d5a37698",
   "metadata": {},
   "outputs": [],
   "source": []
  }
 ],
 "metadata": {
  "kernelspec": {
   "display_name": "Python 3 (ipykernel)",
   "language": "python",
   "name": "python3"
  },
  "language_info": {
   "codemirror_mode": {
    "name": "ipython",
    "version": 3
   },
   "file_extension": ".py",
   "mimetype": "text/x-python",
   "name": "python",
   "nbconvert_exporter": "python",
   "pygments_lexer": "ipython3",
   "version": "3.9.7"
  }
 },
 "nbformat": 4,
 "nbformat_minor": 5
}
