{
 "cells": [
  {
   "cell_type": "code",
   "execution_count": null,
   "id": "f825aa3f",
   "metadata": {},
   "outputs": [],
   "source": [
    "def issafe(arr,x,y,n):\n",
    "    for row in range(x):\n",
    "        if arr[row][y] ==1:\n",
    "            # Checking column attack\n",
    "            return False\n",
    "    row = x\n",
    "    col = y\n",
    "    #Checking Diagonal Attack\n",
    "    while row>=0 and col>=0:\n",
    "        if arr[row][col]==1:\n",
    "            return False\n",
    "        row-=1\n",
    "        col-=1\n",
    "\n",
    "    row = x\n",
    "    col = y\n",
    "    #Checking Anti Diagonal Attack\n",
    "    while row>=0 and col<n:\n",
    "        if arr[row][col]==1:\n",
    "            return False\n",
    "        row-=1\n",
    "        col+=1\n",
    "\n",
    "    return True"
   ]
  },
  {
   "cell_type": "code",
   "execution_count": null,
   "id": "0044114e",
   "metadata": {},
   "outputs": [],
   "source": [
    "def nQueen(arr,x,n):\n",
    "    if x>=n:  # which means all queens have been successfully placed on the chessboard. \n",
    "        return True\n",
    "\n",
    "    for col in range(n):\n",
    "        if issafe(arr,x,col,n):\n",
    "            arr[x][col]=1\n",
    "            if nQueen(arr,x+1,n):\n",
    "                return True\n",
    "            arr[x][col] = 0\n",
    "\n",
    "    return False"
   ]
  },
  {
   "cell_type": "code",
   "execution_count": null,
   "id": "3a10dec7",
   "metadata": {},
   "outputs": [],
   "source": [
    "def main():\n",
    "    n = int(input(\"Enter number of Queens : \"))\n",
    "    arr = [[0]*n for i in range(n)]\n",
    "\n",
    "    if nQueen(arr,0,n):\n",
    "        for i in range(n):\n",
    "            for j in range(n):\n",
    "                print(arr[i][j],end=\" \")\n",
    "            print()\n",
    "if __name__ == '__main__':\n",
    "    main()"
   ]
  },
  {
   "cell_type": "code",
   "execution_count": null,
   "id": "a64d503f",
   "metadata": {},
   "outputs": [],
   "source": [
    "#The issafe function is used to check if it is safe to place a queen at a specific position\n",
    "#(x, y) on the chessboard. It takes four arguments:\n",
    "\n",
    "#arr: the chessboard represented as a 2D array.\n",
    "#x: the row index of the position to be checked.\n",
    "#y: the column index of the position to be checked.\n",
    "#n: the size of the chessboard."
   ]
  },
  {
   "cell_type": "code",
   "execution_count": null,
   "id": "5367922d",
   "metadata": {},
   "outputs": [],
   "source": []
  },
  {
   "cell_type": "code",
   "execution_count": null,
   "id": "1312bb4a",
   "metadata": {},
   "outputs": [],
   "source": []
  },
  {
   "cell_type": "code",
   "execution_count": null,
   "id": "e2799600",
   "metadata": {},
   "outputs": [],
   "source": [
    "def isSafe(arr,x,y,n):\n",
    "    for row in range(x):\n",
    "        if arr[row][y]==1:\n",
    "            return False\n",
    "    row=x\n",
    "    col=y\n",
    "    \n",
    "    #checking for diagonal\n",
    "    while row>=0 and col>=0:\n",
    "        if arr[row][col]==1:\n",
    "            return False\n",
    "        row-=1\n",
    "        col-=1\n",
    "    \n",
    "    \n",
    "    row=x\n",
    "    col=y\n",
    "    \n",
    "    while row>=0and col<n:\n",
    "        if arr[row][col]==1:\n",
    "            return False\n",
    "         row-=1\n",
    "        col+=1\n",
    "    \n",
    "    return True\n"
   ]
  },
  {
   "cell_type": "code",
   "execution_count": null,
   "id": "0c6f355a",
   "metadata": {},
   "outputs": [],
   "source": [
    "def nQueen(arr,x,n):\n",
    "    if x>=n:\n",
    "        return True\n",
    "    \n",
    "    for col in range (n):\n",
    "        if isSafe(arr,x,col,n):\n",
    "            arr[x][col]=1\n",
    "        if nQueen(arr,x+1,n):\n",
    "            return True\n",
    "        arr[x][col]=0\n",
    "    return False\n",
    "        \n",
    "        \n",
    "    "
   ]
  },
  {
   "cell_type": "code",
   "execution_count": null,
   "id": "5aa42ba2",
   "metadata": {},
   "outputs": [],
   "source": [
    "def main():\n",
    "    n=int(input(\"Enter the no of queens\"))\n",
    "    arr=[[0]*n for i in range(n)]\n",
    "    \n",
    "    if nQueen(arr,0,n):\n",
    "        for i in range (x):\n",
    "            for j in range(x):\n",
    "                print(arr[i][j],end=\" \")\n",
    "            print()\n",
    "            \n",
    "if__name__==__'main'__:\n",
    "   main()"
   ]
  },
  {
   "cell_type": "code",
   "execution_count": null,
   "id": "24acbad7",
   "metadata": {},
   "outputs": [],
   "source": []
  }
 ],
 "metadata": {
  "kernelspec": {
   "display_name": "Python 3 (ipykernel)",
   "language": "python",
   "name": "python3"
  },
  "language_info": {
   "codemirror_mode": {
    "name": "ipython",
    "version": 3
   },
   "file_extension": ".py",
   "mimetype": "text/x-python",
   "name": "python",
   "nbconvert_exporter": "python",
   "pygments_lexer": "ipython3",
   "version": "3.9.7"
  }
 },
 "nbformat": 4,
 "nbformat_minor": 5
}
