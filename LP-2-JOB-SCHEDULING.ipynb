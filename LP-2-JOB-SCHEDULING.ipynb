{
 "cells": [
  {
   "cell_type": "code",
   "execution_count": 2,
   "id": "18923207",
   "metadata": {},
   "outputs": [
    {
     "name": "stdout",
     "output_type": "stream",
     "text": [
      "job Scheduled ['j1', 'j2', 'j4', 'j5']\n",
      "292\n"
     ]
    }
   ],
   "source": [
    "profits=[15,27,10,100,150]\n",
    "jobs=[\"j1\",\"j2\",\"j3\",\"j4\",\"j5\"]\n",
    "deadline=[2,3,3,3,4]\n",
    "\n",
    "profitNJobs=list(zip(profits,jobs,deadline))\n",
    "profitNJobs=sorted(profitNJobs,key=lambda x:x[0], reverse=True)\n",
    "#t uses a lambda function to specify that the first element (x[0])\n",
    "#of each tuple should be considered as the key for sorting\n",
    "\n",
    "#empty list is created name as slot with length of jobs\n",
    "slot=[]\n",
    "for _ in range(len(jobs)):\n",
    "    slot.append(0)\n",
    "\n",
    "profit=0\n",
    "ans=[]\n",
    "for i in range(len(jobs)):\n",
    "    ans.append('null')\n",
    "\n",
    "for i in range(len(jobs)):\n",
    "    job=profitNJobs[i]\n",
    "    for j in range(job[2],0,-1):\n",
    "        if slot[j]==0:\n",
    "            ans[j]=job[1]\n",
    "            profit+=job[0]\n",
    "            slot[j]=1\n",
    "            break\n",
    "print(\"job Scheduled\", ans[1:])\n",
    "print(profit)\n",
    "\n"
   ]
  },
  {
   "cell_type": "code",
   "execution_count": 15,
   "id": "96d9e72c",
   "metadata": {},
   "outputs": [
    {
     "name": "stdout",
     "output_type": "stream",
     "text": [
      "job Scheduled ['j1', 'j2', 'j4', 'j5']\n",
      "292\n"
     ]
    }
   ],
   "source": [
    "profits=[15,27,10,100,150]\n",
    "jobs=[\"j1\",\"j2\",\"j3\",\"j4\",\"j5\"]\n",
    "deadline=[2,3,3,3,4]\n",
    "\n",
    "profitNjobs=list(zip(profits,jobs,deadline))\n",
    "profitNjobs=sorted(profitNjobs, key=lambda x:x[0] , reverse=True)\n",
    "\n",
    "slot=[]\n",
    "for _ in range(len(jobs)):\n",
    "    slot.append(0)\n",
    "    \n",
    "profit=0\n",
    "ans=[]\n",
    "for i in range(len(jobs)):\n",
    "    ans.append('null')\n",
    "    \n",
    "for i in range(len(jobs)):\n",
    "    job=profitNjobs[i]\n",
    "    for j in range(job[2],0,-1):\n",
    "        if slot[j]==0:\n",
    "            ans[j]=job[1]\n",
    "            profit+=job[0]\n",
    "            slot[j]=1\n",
    "            break\n",
    "print(\"job Scheduled\",ans[1:])\n",
    "print(profit)"
   ]
  },
  {
   "cell_type": "code",
   "execution_count": null,
   "id": "0747274f",
   "metadata": {},
   "outputs": [],
   "source": []
  }
 ],
 "metadata": {
  "kernelspec": {
   "display_name": "Python 3 (ipykernel)",
   "language": "python",
   "name": "python3"
  },
  "language_info": {
   "codemirror_mode": {
    "name": "ipython",
    "version": 3
   },
   "file_extension": ".py",
   "mimetype": "text/x-python",
   "name": "python",
   "nbconvert_exporter": "python",
   "pygments_lexer": "ipython3",
   "version": "3.9.7"
  }
 },
 "nbformat": 4,
 "nbformat_minor": 5
}
