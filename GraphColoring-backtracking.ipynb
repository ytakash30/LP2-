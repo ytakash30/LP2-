{
 "cells": [
  {
   "cell_type": "markdown",
   "metadata": {
    "id": "I14DkxmOil12"
   },
   "source": [
    "**Graph Coloring Problem - backtracking**\n",
    "\n",
    "Code:"
   ]
  },
  {
   "cell_type": "code",
   "execution_count": null,
   "metadata": {
    "colab": {
     "base_uri": "https://localhost:8080/"
    },
    "executionInfo": {
     "elapsed": 1193,
     "status": "ok",
     "timestamp": 1684923549873,
     "user": {
      "displayName": "Aaditya Bansude",
      "userId": "05732230439820512175"
     },
     "user_tz": -330
    },
    "id": "QuEftaq4P3Ex",
    "outputId": "8e865d54-c9eb-4be3-8ee5-1e0bcd129ccf"
   },
   "outputs": [
    {
     "name": "stdout",
     "output_type": "stream",
     "text": [
      "Solution exist and Following are the assigned colours:\n",
      "1 2 3 2 "
     ]
    },
    {
     "data": {
      "text/plain": [
       "True"
      ]
     },
     "execution_count": 3,
     "metadata": {},
     "output_type": "execute_result"
    }
   ],
   "source": [
    "V = 4                                                 #V= no of vertices       # m= no of available  colour\n",
    "m = 3\n",
    "graph = [[0, 1, 1, 1], \n",
    "         [1, 0, 1, 0], \n",
    "         [1, 1, 0, 1], \n",
    "         [1, 0, 1, 0]]\n",
    "\n",
    "def isSafe(v, colour, c):\n",
    "    for i in range(V):\n",
    "        if graph[v][i] == 1 and colour[i] == c:\n",
    "            return False\n",
    "    return True\n",
    "\n",
    "def graphColourUtil(m, colour, v):\n",
    "    if v == V:\n",
    "        return True\n",
    "\n",
    "    for c in range(1, m + 1):\n",
    "        if isSafe(v, colour, c) == True:\n",
    "            colour[v] = c\n",
    "            if graphColourUtil(m, colour, v + 1) == True:\n",
    "                return True\n",
    "            colour[v] = 0   #so it resets the color of vertex v to 0\n",
    "\n",
    "def graphColouring(m):\n",
    "    colour = [0] * V\n",
    "    if graphColourUtil(m, colour, 0) == None:\n",
    "        return False\n",
    "    print(\"Solution exist and Following are the assigned colours:\")\n",
    "    for c in colour:\n",
    "        print(c, end=' ')\n",
    "    return True\n",
    "\n",
    "graphColouring(m)\n",
    "\n",
    "#list with all elements set to 0. It then calls the\n",
    "#graphColourUtil function with m (number of available #colors), colour, and the starting vertex 0. If the \n",
    "#return value of graphColourUtil is None, it means a \n",
    "#valid coloring was not found, so it returns False.\n",
    "\n",
    "#If a valid coloring was found, it prints \"Solution \n",
    "#exist and Following are the assigned colours:\". Then \n",
    "#it iterates over the colour list and prints each \n",
    "#assigned color."
   ]
  }
 ],
 "metadata": {
  "colab": {
   "authorship_tag": "ABX9TyPENqUW3sSMpOk9B6sZoteX",
   "provenance": []
  },
  "kernelspec": {
   "display_name": "Python 3 (ipykernel)",
   "language": "python",
   "name": "python3"
  },
  "language_info": {
   "codemirror_mode": {
    "name": "ipython",
    "version": 3
   },
   "file_extension": ".py",
   "mimetype": "text/x-python",
   "name": "python",
   "nbconvert_exporter": "python",
   "pygments_lexer": "ipython3",
   "version": "3.9.7"
  }
 },
 "nbformat": 4,
 "nbformat_minor": 1
}
