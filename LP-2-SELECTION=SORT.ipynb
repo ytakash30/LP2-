{
 "cells": [
  {
   "cell_type": "code",
   "execution_count": 1,
   "id": "796e8842",
   "metadata": {},
   "outputs": [
    {
     "name": "stdout",
     "output_type": "stream",
     "text": [
      "[-45, -1, 0, 5, 10, 70, 80]\n"
     ]
    }
   ],
   "source": [
    "def selection_sort(arr):\n",
    "    n=len(arr)\n",
    "\n",
    "    for i in range(n-1):\n",
    "        min_ind=i\n",
    "        for j in range(i+1,n):\n",
    "          if  arr[j]<arr[min_ind]:\n",
    "            min_ind=j\n",
    "\n",
    "#swaping\n",
    "\n",
    "        arr[i],arr[min_ind]=arr[min_ind],arr[i]\n",
    "\n",
    "    return arr \n",
    "\n",
    "arr =[10,80,70,0,-45,-1,5]\n",
    "sorted_arr=selection_sort(arr)\n",
    "print(sorted_arr)\n",
    "\n"
   ]
  },
  {
   "cell_type": "code",
   "execution_count": null,
   "id": "430de8c2",
   "metadata": {},
   "outputs": [],
   "source": []
  }
 ],
 "metadata": {
  "kernelspec": {
   "display_name": "Python 3 (ipykernel)",
   "language": "python",
   "name": "python3"
  },
  "language_info": {
   "codemirror_mode": {
    "name": "ipython",
    "version": 3
   },
   "file_extension": ".py",
   "mimetype": "text/x-python",
   "name": "python",
   "nbconvert_exporter": "python",
   "pygments_lexer": "ipython3",
   "version": "3.9.7"
  }
 },
 "nbformat": 4,
 "nbformat_minor": 5
}
